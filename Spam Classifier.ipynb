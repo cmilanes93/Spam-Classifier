{
  "nbformat": 4,
  "nbformat_minor": 0,
  "metadata": {
    "colab": {
      "provenance": []
    },
    "kernelspec": {
      "name": "python3",
      "display_name": "Python 3"
    },
    "language_info": {
      "name": "python"
    }
  },
  "cells": [
    {
      "cell_type": "code",
      "execution_count": 1,
      "metadata": {
        "id": "tr0TDXuVzdvf"
      },
      "outputs": [],
      "source": [
        "import tarfile\n",
        "\n",
        "def fetch_spam_data():\n",
        "    spam_root = \"http://spamassassin.apache.org/old/publiccorpus/\"\n",
        "    ham_url = spam_root + \"20030228_hard_ham.tar.bz2\"\n",
        "    spam_url = spam_root + \"20030228_spam.tar.bz2\"\n",
        "\n",
        "    spam_path = Path() / \"datasets\" / \"spam\"\n",
        "    spam_path.mkdir(parents=True, exist_ok=True)\n",
        "    for dir_name, tar_name, url in ((\"hard_ham\", \"ham\", ham_url),\n",
        "                                    (\"spam\", \"spam\", spam_url)):\n",
        "        if not (spam_path / dir_name).is_dir():\n",
        "            path = (spam_path / tar_name).with_suffix(\".tar.bz2\")\n",
        "            print(\"Downloading\", path)\n",
        "            urllib.request.urlretrieve(url, path)\n",
        "            tar_bz2_file = tarfile.open(path)\n",
        "            tar_bz2_file.extractall(path=spam_path)\n",
        "            tar_bz2_file.close()\n",
        "    return [spam_path / dir_name for dir_name in (\"hard_ham\", \"spam\")]"
      ]
    },
    {
      "cell_type": "code",
      "source": [
        "import urllib.request\n",
        "from pathlib import Path\n",
        "ham_dir, spam_dir = fetch_spam_data()"
      ],
      "metadata": {
        "colab": {
          "base_uri": "https://localhost:8080/"
        },
        "id": "eVPsDAO6zgVU",
        "outputId": "91077cf6-708c-4566-defa-f2230c5ee64f"
      },
      "execution_count": 2,
      "outputs": [
        {
          "output_type": "stream",
          "name": "stdout",
          "text": [
            "Downloading datasets/spam/ham.tar.bz2\n",
            "Downloading datasets/spam/spam.tar.bz2\n"
          ]
        }
      ]
    },
    {
      "cell_type": "markdown",
      "source": [
        "load all the emails:"
      ],
      "metadata": {
        "id": "Rv_swXKDzq8M"
      }
    },
    {
      "cell_type": "code",
      "source": [
        "ham_filenames = [f for f in sorted(ham_dir.iterdir()) if len(f.name) > 20]\n",
        "spam_filenames = [f for f in sorted(spam_dir.iterdir()) if len(f.name) > 20]"
      ],
      "metadata": {
        "id": "9f4Tdf9Hzty3"
      },
      "execution_count": 3,
      "outputs": []
    },
    {
      "cell_type": "code",
      "source": [
        "len(ham_filenames)"
      ],
      "metadata": {
        "colab": {
          "base_uri": "https://localhost:8080/"
        },
        "id": "fYMMusKIzwLK",
        "outputId": "9fd9eda1-c1bb-4185-da36-7b664281b0b4"
      },
      "execution_count": 4,
      "outputs": [
        {
          "output_type": "execute_result",
          "data": {
            "text/plain": [
              "250"
            ]
          },
          "metadata": {},
          "execution_count": 4
        }
      ]
    },
    {
      "cell_type": "code",
      "source": [
        "len(spam_filenames)"
      ],
      "metadata": {
        "colab": {
          "base_uri": "https://localhost:8080/"
        },
        "id": "Xc1hKH-BzxnK",
        "outputId": "34bada1e-2766-4db2-a2ef-3c54c034274e"
      },
      "execution_count": 5,
      "outputs": [
        {
          "output_type": "execute_result",
          "data": {
            "text/plain": [
              "500"
            ]
          },
          "metadata": {},
          "execution_count": 5
        }
      ]
    },
    {
      "cell_type": "code",
      "source": [
        "import email\n",
        "import email.policy\n",
        "\n",
        "def load_email(filepath):\n",
        "    with open(filepath, \"rb\") as f:\n",
        "        return email.parser.BytesParser(policy=email.policy.default).parse(f)"
      ],
      "metadata": {
        "id": "AyjH8ebWzzIY"
      },
      "execution_count": 6,
      "outputs": []
    },
    {
      "cell_type": "code",
      "source": [
        "ham_emails = [load_email(filepath) for filepath in ham_filenames]\n",
        "spam_emails = [load_email(filepath) for filepath in spam_filenames]"
      ],
      "metadata": {
        "id": "6fwBGLL1z23w"
      },
      "execution_count": 7,
      "outputs": []
    },
    {
      "cell_type": "code",
      "source": [
        "print(ham_emails[1].get_content().strip())"
      ],
      "metadata": {
        "colab": {
          "base_uri": "https://localhost:8080/"
        },
        "id": "IDluGkngz4zn",
        "outputId": "3830fd9a-e514-4644-f169-c6a37e912590"
      },
      "execution_count": 8,
      "outputs": [
        {
          "output_type": "stream",
          "name": "stdout",
          "text": [
            "May 7, 2002\n",
            "\n",
            "\n",
            "Dear rod-3ds@arsecandle.org:\n",
            "\n",
            "\n",
            "Congratulations!  On behalf of Frito-Lay, Inc., we are pleased to advise you\n",
            " that you've won Fourth Prize in the 3D's(R) Malcolm in the Middle(TM)\n",
            " Sweepstakes.   Fourth Prize consists of 1 manufacturer's coupon redeemable at\n",
            " participating retailers for 1 free bag of 3D's(R) brand snacks (up to 7 oz.\n",
            " size), with an approximate retail value of $2.59 and an expiration date of\n",
            " 12/31/02.\n",
            "\n",
            "Follow these instructions to claim your prize:\n",
            "\n",
            "1.\tPrint out this email message.\n",
            "\n",
            "2.\tComplete ALL of the information requested.  Print clearly and legibly.  Sign\n",
            " where indicated.\n",
            "\n",
            "3.\tIf you are under 18 or otherwise under the legal age of majority in your\n",
            " state, your parent or legal guardian must co-sign where indicated below.\n",
            "\n",
            "4.\tMail the completed and signed form to:  3D's(R) Malcolm in the Middle(TM)\n",
            " Sweepstakes, Redemption Center, PO Box 1520, Elmhurst IL 60126.  WE MUST\n",
            " RECEIVE THIS FORM NO LATER THAN MAY 28, 2002 IN ORDER TO SEND YOU THE PRIZE.\n",
            "\n",
            "PLEASE DO NOT ATTEMPT TO REPLY TO THIS EMAIL.  THE ONLY WAY TO CLAIM THE PRIZE\n",
            " IS TO FOLLOW THE INSTRUCTIONS ABOVE.  YOUR PRIZE WILL BE MAILED TO YOU WITHIN 6\n",
            " TO 8 WEEKS OF RECEIPT OF THIS FORM.\n",
            "\n",
            "Once again, on behalf of Frito-Lay, Inc., congratulations and thank you for\n",
            " participating in the Game.\n",
            "\n",
            "\t\t\t\t\t\n",
            "Sincerely,\n",
            "\n",
            "\n",
            "Game Security Services\n",
            "\n",
            "\n",
            "\n",
            "\n",
            "\n",
            "\n",
            "\n",
            "\n",
            "\n",
            "\n",
            "PRIZE ACCEPTANCE/RELEASE AND INDEMNIFICATION FORM\n",
            "3D's(R) Malcolm in the Middle(TM) Sweepstakes\n",
            "\n",
            "\n",
            "1.\tMy social security number is:  _______________________________\n",
            "\n",
            "2.\tMy date of birth is:   _______________________________________\n",
            "\n",
            "3.\tMy telephone number is:   __________________________________\n",
            "\n",
            "4.\tMy home address is:   _____________________________________\n",
            "\n",
            "\t\t\t      _____________________________________\n",
            "\n",
            "5.\tMy email address is:   _____________________________________\n",
            "\n",
            "6.\tI am a legal resident of the State of:   _________________________\n",
            "\n",
            "7.\tI am above the legal age of majority in my state of residence or my parent or\n",
            " legal guardian has co-signed below.\n",
            "\n",
            "8.\tI represent that I (1) have fully complied with all of the Official Rules of\n",
            " the Sweepstakes, and (2) have not committed any fraud or deception in\n",
            " participating in the Sweepstakes or in accepting the Prize.\n",
            "\n",
            "9.\tBy accepting the prize, I (and my parent/legal guardian if I am a minor)\n",
            " agree to release Frito-Lay, Inc. (\"Sponsor\"), FOX Broadcasting Company, 20th\n",
            " Century FOX Television, Regency Entertainment, their respective parent,\n",
            " subsidiary or affiliated companies, distributors, printing suppliers for this\n",
            " promotion, advertising, fulfillment, judging or promotion agencies,\n",
            " participating retailers, and all of their respective officers, directors,\n",
            " employees, representatives and agents from any liability for, and to hold them\n",
            " harmless against, any liability for injuries, losses or damages of any kind to\n",
            " persons or property resulting in whole or in part, directly or indirectly, from\n",
            " participation in the sweepstakes or acceptance, possession, misuse or use of\n",
            " any prize. \n",
            "\n",
            "\n",
            "\n",
            "Name [print full name]:\t_______________________________\n",
            "\n",
            "Signature:\t\t_______________________________\n",
            "\n",
            "Date:\t\t\t_______________________________\n",
            "\n",
            "\n",
            "\n",
            "IF WINNER IS A MINOR IN HIS OR HER STATE OF RESIDENCE, WINNER'S PARENT OR LEGAL\n",
            " GUARDIAN MUST COMPLETE THE INFORMATION BELOW: \n",
            "\n",
            "I am the parent or legal guardian of the winner who has signed the foregoing\n",
            " Release. I AGREE TO THE TERMS OF THE RELEASE AND CONSENT TO THE ACCEPTANCE OF\n",
            " THE PRIZE ON THE WINNER'S BEHALF.\n",
            "\n",
            "\n",
            "\n",
            "Parent/Guardian's Name [print full name]:\t_______________________________\n",
            "\n",
            "Parent/Guardian's Signature:\t\t\t_______________________________\n",
            "\n",
            "Date:\t\t\t\t\t\t_______________________________\n",
            "\n",
            "\n",
            "\n",
            "\n",
            "\n",
            "\n",
            "\n",
            "2002 OFFICIAL RULES\n",
            "3D's(R) Malcolm in the Middle(TM) Sweepstakes\n",
            "\n",
            "OPEN ONLY TO LEGAL U.S. RESIDENTS LOCATED IN THE U.S. AT THE TIME OF ENTRY. VOID\n",
            " ELSEWHERE AND WHEREVER PROHIBITED BY LAW, INCLUDING BUT NOT LIMITED TO,\n",
            " FLORIDA, PUERTO RICO, U.S. VIRGIN ISLANDS AND U.S. MILITARY INSTALLATIONS\n",
            " LOCATED IN A FOREIGN COUNTRY.\n",
            "\n",
            "NO PURCHASE NECESSARY. PURCHASE DOES NOT IMPROVE CHANCE OF WINNING. MANY WILL\n",
            " ENTER. FEW WILL WIN. ODDS DEPEND ON NUMBER OF ENTRIES RECEIVED.\n",
            "\n",
            "1. ELIGIBILITY: Open only to legal U.S. residents located in the U.S. at the\n",
            " time of entry, excluding residents of Florida, Puerto Rico, the U.S. Virgin\n",
            " Islands and U.S. military installations located in a foreign country, who had\n",
            " online access on or before 1/26/02. Employees, contractors, directors and\n",
            " officers of Frito-Lay, Inc. (\"Sponsor\"), FOX Broadcasting Company, 20th Century\n",
            " FOX Television, Regency Entertainment, their respective parent, subsidiary and\n",
            " affiliated companies, distributors, printing suppliers for this promotion,\n",
            " advertising, fulfillment, judging and promotion agencies (collectively,\n",
            " \"Promotion Parties\"), and their immediate family members and those living in\n",
            " their same households are not eligible.\n",
            "\n",
            "2. TO ENTER: Beginning 12:00:01 a.m. E.T. 1/27/02, log on to www.3DsFun.com and\n",
            " click on the link on the home page to locate the official entry form. Follow\n",
            " on-screen directions to properly complete an entry form and send it\n",
            " electronically by 11:59:59 p.m. E.T. 2/11/02. In order for entry to be valid,\n",
            " entrants must click on the \"I accept\" button on the web site. All entries must\n",
            " be received no later than 11:59:59 p.m. E.T. on 2/13/02. LIMIT ONE ENTRY PER\n",
            " PERSON AND/OR E-MAIL ADDRESS. SUBSEQUENT ENTRIES WILL BE DISQUALIFIED.\n",
            " Promotion Parties assume no responsibility for lost, late, misdirected, stolen,\n",
            " undelivered, garbled, damaged, or incomplete entries, or for any computer,\n",
            " online, telephone or technical malfunctions that may occur. Promotion Parties\n",
            " also assume no responsibility for any technical problems in connection with\n",
            " transmission or receipt of online entries including faulty electronic data\n",
            " transmission, traffic congestion on the Internet or on the web site, hardware\n",
            " or software error, equipment failure or malfunction, or other online\n",
            " communications problems. In the event of a dispute regarding the identity of\n",
            " the person submitting an online entry, entries will be declared made by the\n",
            " authorized account holder of the e-mail address submitted at the time of entry.\n",
            " \"Authorized account holder\" is defined as the natural person who is assigned to\n",
            " an e-mail address by an Internet Access provider, online service provider, or\n",
            " other organization (e.g., business, educational institution, etc.) responsible\n",
            " for assigning e-mail addresses for the domain associated with the submitted\n",
            " e-mail address. All entries become the property of Sponsor and will not be\n",
            " returned to entrant. Automated entries (including but not limited to entries\n",
            " made using any script, macro, bot, or sweepstakes service) and facsimiles are\n",
            " not allowed. Potential winner may be requested to provide Sponsor with proof\n",
            " that the potential winner is the authorized account holder of the e-mail\n",
            " address associated with the winning entry.\n",
            "\n",
            "3. WINNER SELECTION: Winners will be selected in a random drawing to take place\n",
            " on or about 2/28/02 by an independent judging organization, the judge, whose\n",
            " decisions are final and binding on all matters related to the sweepstakes. Odds\n",
            " of winning depend on the number of eligible entries received. Winners will be\n",
            " notified by e-mail. If any prize or correspondence (including e-mail) regarding\n",
            " any prize is returned as non-deliverable, prize may be forfeited and an\n",
            " alternate winner selected.  Winners (or winner's parent or legal guardian, if\n",
            " winner is a minor) and Grand Prize winner's travel companions (or companion's\n",
            " parent or legal guardian for any companion who is a minor) will be required to\n",
            " complete, sign and return either a Prize Acceptance/Release and Indemnification\n",
            " form or an Affidavit of Eligibility/Liability Release (as directed by Sponsor),\n",
            " and, where lawful, a Publicity Release within twenty-one (21) days of winners'\n",
            " receipt of documents via e-mail or prize may be forfeited. Grand prize winner\n",
            " (or winner's parent or legal guardian, if winner is a minor) and winner's\n",
            " travel companions will also be required to complete, sign and return a set\n",
            " visit release together with completed I-9 and W-4 forms in order to visit the\n",
            " set of Malcolm in the Middle(TM) as described below in paragraph 4. Prizes won\n",
            " by minors will be awarded to a parent or legal guardian who must sign all\n",
            " required documents.\n",
            "\n",
            "4. PRIZES: ONE (1) GRAND PRIZE: One trip for winner and 3 travel companions of\n",
            " winner's choosing to Los Angeles, CA to be completed on or before 12/31/02.\n",
            " Trip is for 4 persons but can include up to 8 persons under the following\n",
            " conditions: Among winner and the 3 selected travel companions, each traveler\n",
            " who is a minor in his/her state of residence must be accompanied by a parent or\n",
            " legal guardian of such minor at all times; Sponsor will provide trip\n",
            " accommodations for one parent or legal guardian to accompany him/her. Trip\n",
            " includes round-trip coach air transportation from a major gateway airport near\n",
            " winner's residence within the U.S.; 3 days/2 nights double occupancy standard\n",
            " hotel accommodations in the Los Angeles, CA metropolitan area (airport, carrier\n",
            " and hotel to be selected by Sponsor); accompanied admission to the set of FOX's\n",
            " Malcolm in the Middle(TM) (\"MIM\") during a non-filming period selected by FOX\n",
            " to meet Frankie Muniz; and ground transportation between the California airport\n",
            " and hotel, and between the hotel and the MIM set. Grand Prize winner will also\n",
            " receive a check for $2,500, 1 MIM script autographed by Frankie Muniz, one\n",
            " MIM/3D's(R) brand snacks VIP pack (including 1 backpack, 1 book, 1 hat, 1\n",
            " t-shirt, and 1 case consisting of fifteen 7 oz. bags of RUFFLES(R) 3D's(R)\n",
            " brand Maximum Cheddar flavored snacks). Approximate Retail Value (\"ARV\"):\n",
            " Between $7,500 and $15,000, depending on winner's point of travel origin and\n",
            " how many persons (up to 8) take the trip. All meals, gratuities, and other\n",
            " expenses associated with prize trip not specifically mentioned in these rules\n",
            " are the winner's sole responsibility. All travel must be taken by the date\n",
            " specified; no alternative travel dates are available. Winner, travel\n",
            " companions, and any necessary parent(s)/legal guardian(s) (the \"travel party\")\n",
            " must travel on same itinerary. In the event that circumstances prevent the\n",
            " travel party from being able to attend the set visit or meet Frankie Muniz, or\n",
            " limit this portion of the Grand Prize in any way, the winner agrees that the\n",
            " Promotion Parties shall have no obligations other than to deliver the remainder\n",
            " of the Grand Prize. FIVE (5) FIRST PRIZES: Manufacturer's coupons redeemable at\n",
            " participating retailers for 52 free 7 oz. bags of any 3D'S(R) brand snacks\n",
            " (with a retail value up to $2.59). ARV: $135. TEN (10) SECOND PRIZES: One\n",
            " MIM/3D's(R) brand snacks VIP pack (including 1 backpack, 1 book, 1 hat, ,1\n",
            " t-shirt, and 1 case consisting of fifteen 7 oz. bags of RUFFLES(R) 3D's(R)\n",
            " brand Maximum Cheddar flavored snacks). ARV: $100. TWENTY (20) THIRD PRIZES:\n",
            " One MIM t-shirt and one MIM hat. ARV: $30. 100 FOURTH PRIZES: One\n",
            " manufacturer's coupon redeemable at participating retailers for 1 free bag of\n",
            " 3D's(R) brand snacks (up to 7 oz. size). ARV: $2.59. Free product coupons\n",
            " expire and must be redeemed by 12/31/02. No substitution, cash redemptions or\n",
            " transfer of prizes is permitted except at Sponsor's sole discretion. If a prize\n",
            " cannot be awarded for any reason, Sponsor reserves the right to substitute any\n",
            " prize with another prize of equal or greater value. Any portion of a prize not\n",
            " accepted by a winner shall be forfeited. All prizes will be awarded.\n",
            "\n",
            "5. GENERAL CONDITIONS: Sweepstakes is not to be used in connection with any form\n",
            " of gambling. Prizes will be awarded and/or delivered only to addresses within\n",
            " the United States. Prize winners are solely responsible for any taxes on\n",
            " Prizes. This sweepstakes is subject to all federal, state and local laws, and\n",
            " Grand Prize winner will receive an IRS Form 1099 for the approximate retail\n",
            " value of the prize. By participating, entrants (and their parent(s)/legal\n",
            " guardian(s) if entrants are minors) agree to these Official Rules, Sponsor's\n",
            " Privacy Policy (available at www.3DsFun.com) and to the decisions of the judge,\n",
            " which are final and binding in all respects. If for any reason the sweepstakes\n",
            " is not capable of running as planned; including infection by computer virus,\n",
            " bugs, tampering, unauthorized intervention, fraud, technical failures, or any\n",
            " other causes which corrupt or affect the administration, security, fairness,\n",
            " integrity or proper conduct of the sweepstakes, Sponsor reserves the right, at\n",
            " its sole discretion, to disqualify any individual who is responsible or who\n",
            " tampers with the entry process, and to cancel or terminate the sweepstakes and\n",
            " select the winners from all eligible entries received prior to the cancellation\n",
            " or termination. This sweepstakes is offered only in the United States and is\n",
            " governed by the laws of the state of Texas, with venue in Dallas County, Texas,\n",
            " and all claims must be resolved in the federal or state courts of Dallas\n",
            " County, Texas.\n",
            "\n",
            "6. LIMITATIONS OF LIABILITY AND RELEASE: By accepting prize, winners (and\n",
            " winners' parent(s)/legal guardian(s) if winners are minors) agree that the\n",
            " Promotion Parties, participating retailers, and all of their respective\n",
            " officers, directors, employees, representatives and agents will have no\n",
            " liability whatsoever for, and shall be held harmless by winners against, any\n",
            " liability for injuries, losses or damages of any kind to persons or property\n",
            " resulting in whole or in part, directly or indirectly, from participation in\n",
            " the sweepstakes or acceptance, possession, misuse or use of any prize. Except\n",
            " if winners are residents of TN or where prohibited by law, winners (and\n",
            " winners' parent(s)/legal guardian(s) if winners are minors) grant (and agree to\n",
            " confirm this grant in writing, if requested) permission for Sponsor and those\n",
            " acting under its authority to use his/her name, photograph, voice and/or\n",
            " likeness, for advertising and/or publicity purposes without additional\n",
            " compensation.\n",
            "\n",
            "7. WINNERS' LIST: For a list of winners of prizes valued over $25, mail a\n",
            " self-addressed, stamped envelope to be postmarked by 2/11/02 and received by\n",
            " 2/18/02 to: Malcolm in the Middle(TM) Sweepstakes, Winners' List Requests, P.O.\n",
            " Box 1518, Elmhurst, IL 60126.\n",
            "\n",
            "8. SPONSOR: Frito-Lay, Inc., 7701 Legacy Drive, Plano, TX 75024-4099.\n",
            "\n",
            "(c)2002. Frito-Lay, Inc. All rights reserved.\n",
            "\n",
            "Malcolm in the Middle(TM) and (c)2002 Twentieth Century Fox Film Corporation,\n",
            " Regency Entertainment (USA) Inc. and Monarchy Enterprises S.a.r.l. All rights\n",
            " reserved.\n",
            "(c)2002. FOX BROADCASTING COMPANY\n"
          ]
        }
      ]
    },
    {
      "cell_type": "code",
      "source": [
        "print(spam_emails[6].get_content().strip())"
      ],
      "metadata": {
        "colab": {
          "base_uri": "https://localhost:8080/"
        },
        "id": "9YjK-0xcz7dz",
        "outputId": "02c149c2-12f2-4515-b4fb-9e22613a05c5"
      },
      "execution_count": 9,
      "outputs": [
        {
          "output_type": "stream",
          "name": "stdout",
          "text": [
            "Help wanted.  We are a 14 year old fortune 500 company, that is\n",
            "growing at a tremendous rate.  We are looking for individuals who\n",
            "want to work from home.\n",
            "\n",
            "This is an opportunity to make an excellent income.  No experience\n",
            "is required.  We will train you.\n",
            "\n",
            "So if you are looking to be employed from home with a career that has\n",
            "vast opportunities, then go:\n",
            "\n",
            "http://www.basetel.com/wealthnow\n",
            "\n",
            "We are looking for energetic and self motivated people.  If that is you\n",
            "than click on the link and fill out the form, and one of our\n",
            "employement specialist will contact you.\n",
            "\n",
            "To be removed from our link simple go to:\n",
            "\n",
            "http://www.basetel.com/remove.html\n",
            "\n",
            "\n",
            "4139vOLW7-758DoDY1425FRhM1-764SMFc8513fCsLl40\n"
          ]
        }
      ]
    },
    {
      "cell_type": "markdown",
      "source": [
        "types of structures"
      ],
      "metadata": {
        "id": "FzXVz7vG0Esm"
      }
    },
    {
      "cell_type": "code",
      "source": [
        "def get_email_structure(email):\n",
        "    if isinstance(email, str):\n",
        "        return email\n",
        "    payload = email.get_payload()\n",
        "    if isinstance(payload, list):\n",
        "        multipart = \", \".join([get_email_structure(sub_email)\n",
        "                               for sub_email in payload])\n",
        "        return f\"multipart({multipart})\"\n",
        "    else:\n",
        "        return email.get_content_type()"
      ],
      "metadata": {
        "id": "neWjIokdz_Xk"
      },
      "execution_count": 10,
      "outputs": []
    },
    {
      "cell_type": "code",
      "source": [
        "from collections import Counter\n",
        "\n",
        "def structures_counter(emails):\n",
        "    structures = Counter()\n",
        "    for email in emails:\n",
        "        structure = get_email_structure(email)\n",
        "        structures[structure] += 1\n",
        "    return structures"
      ],
      "metadata": {
        "id": "t-slLJFI0G2M"
      },
      "execution_count": 11,
      "outputs": []
    },
    {
      "cell_type": "code",
      "source": [
        "structures_counter(ham_emails).most_common()"
      ],
      "metadata": {
        "colab": {
          "base_uri": "https://localhost:8080/"
        },
        "id": "JHAO-iaG0IIy",
        "outputId": "6c43965c-fb4d-447a-9ed0-79e7fb75005f"
      },
      "execution_count": 12,
      "outputs": [
        {
          "output_type": "execute_result",
          "data": {
            "text/plain": [
              "[('text/html', 118),\n",
              " ('text/plain', 81),\n",
              " ('multipart(text/plain, text/html)', 43),\n",
              " ('multipart(text/html)', 2),\n",
              " ('multipart(text/plain, image/bmp)', 1),\n",
              " ('multipart(multipart(text/plain, text/html))', 1),\n",
              " ('multipart(text/plain, application/x-pkcs7-signature)', 1),\n",
              " ('multipart(text/plain, image/png, image/png)', 1),\n",
              " ('multipart(multipart(text/plain, text/html), image/gif, image/gif, image/gif, image/gif, image/gif, image/gif, image/gif, image/gif, image/gif, image/gif, image/gif, image/jpeg, image/gif, image/gif, image/gif, image/gif, image/gif, image/gif)',\n",
              "  1),\n",
              " ('multipart(text/plain, text/plain)', 1)]"
            ]
          },
          "metadata": {},
          "execution_count": 12
        }
      ]
    },
    {
      "cell_type": "code",
      "source": [
        "structures_counter(spam_emails).most_common()"
      ],
      "metadata": {
        "colab": {
          "base_uri": "https://localhost:8080/"
        },
        "id": "wYWdsE_F0JjX",
        "outputId": "a6b6e6a0-72cc-49bf-f541-c300cc09846e"
      },
      "execution_count": 13,
      "outputs": [
        {
          "output_type": "execute_result",
          "data": {
            "text/plain": [
              "[('text/plain', 218),\n",
              " ('text/html', 183),\n",
              " ('multipart(text/plain, text/html)', 45),\n",
              " ('multipart(text/html)', 20),\n",
              " ('multipart(text/plain)', 19),\n",
              " ('multipart(multipart(text/html))', 5),\n",
              " ('multipart(text/plain, image/jpeg)', 3),\n",
              " ('multipart(text/html, application/octet-stream)', 2),\n",
              " ('multipart(text/plain, application/octet-stream)', 1),\n",
              " ('multipart(text/html, text/plain)', 1),\n",
              " ('multipart(multipart(text/html), application/octet-stream, image/jpeg)', 1),\n",
              " ('multipart(multipart(text/plain, text/html), image/gif)', 1),\n",
              " ('multipart/alternative', 1)]"
            ]
          },
          "metadata": {},
          "execution_count": 13
        }
      ]
    },
    {
      "cell_type": "markdown",
      "source": [
        "email headers:"
      ],
      "metadata": {
        "id": "f1zIkV_v0OOE"
      }
    },
    {
      "cell_type": "code",
      "source": [
        "for header, value in spam_emails[0].items():\n",
        "    print(header, \":\", value)"
      ],
      "metadata": {
        "colab": {
          "base_uri": "https://localhost:8080/"
        },
        "id": "oG1lX0r10LY6",
        "outputId": "79175d51-9a37-48cd-eaf6-6f791fe41ad1"
      },
      "execution_count": 14,
      "outputs": [
        {
          "output_type": "stream",
          "name": "stdout",
          "text": [
            "Return-Path : <12a1mailbot1@web.de>\n",
            "Delivered-To : zzzz@localhost.spamassassin.taint.org\n",
            "Received : from localhost (localhost [127.0.0.1])\tby phobos.labs.spamassassin.taint.org (Postfix) with ESMTP id 136B943C32\tfor <zzzz@localhost>; Thu, 22 Aug 2002 08:17:21 -0400 (EDT)\n",
            "Received : from mail.webnote.net [193.120.211.219]\tby localhost with POP3 (fetchmail-5.9.0)\tfor zzzz@localhost (single-drop); Thu, 22 Aug 2002 13:17:21 +0100 (IST)\n",
            "Received : from dd_it7 ([210.97.77.167])\tby webnote.net (8.9.3/8.9.3) with ESMTP id NAA04623\tfor <zzzz@spamassassin.taint.org>; Thu, 22 Aug 2002 13:09:41 +0100\n",
            "From : 12a1mailbot1@web.de\n",
            "Received : from r-smtp.korea.com - 203.122.2.197 by dd_it7  with Microsoft SMTPSVC(5.5.1775.675.6);\t Sat, 24 Aug 2002 09:42:10 +0900\n",
            "To : dcek1a1@netsgo.com\n",
            "Subject : Life Insurance - Why Pay More?\n",
            "Date : Wed, 21 Aug 2002 20:31:57 -1600\n",
            "MIME-Version : 1.0\n",
            "Message-ID : <0103c1042001882DD_IT7@dd_it7>\n",
            "Content-Type : text/html; charset=\"iso-8859-1\"\n",
            "Content-Transfer-Encoding : quoted-printable\n"
          ]
        }
      ]
    },
    {
      "cell_type": "code",
      "source": [
        "spam_emails[0][\"Subject\"]"
      ],
      "metadata": {
        "colab": {
          "base_uri": "https://localhost:8080/",
          "height": 35
        },
        "id": "jDgGCOZL0P49",
        "outputId": "8b193e28-bb04-4ef0-85b5-44f62bcb6f93"
      },
      "execution_count": 15,
      "outputs": [
        {
          "output_type": "execute_result",
          "data": {
            "text/plain": [
              "'Life Insurance - Why Pay More?'"
            ],
            "application/vnd.google.colaboratory.intrinsic+json": {
              "type": "string"
            }
          },
          "metadata": {},
          "execution_count": 15
        }
      ]
    },
    {
      "cell_type": "markdown",
      "source": [
        "Training test sets"
      ],
      "metadata": {
        "id": "w8iCXjM10aN-"
      }
    },
    {
      "cell_type": "code",
      "source": [
        "import numpy as np\n",
        "from sklearn.model_selection import train_test_split\n",
        "\n",
        "X = np.array(ham_emails + spam_emails, dtype=object)\n",
        "y = np.array([0] * len(ham_emails) + [1] * len(spam_emails))\n",
        "\n",
        "X_train, X_test, y_train, y_test = train_test_split(X, y, test_size=0.2,\n",
        "                                                    random_state=42)"
      ],
      "metadata": {
        "id": "C1NBcKcg0TA4"
      },
      "execution_count": 16,
      "outputs": []
    },
    {
      "cell_type": "markdown",
      "source": [
        "convert HTML to plain text function"
      ],
      "metadata": {
        "id": "uDcQPw-G0hYp"
      }
    },
    {
      "cell_type": "code",
      "source": [
        "import re\n",
        "from html import unescape\n",
        "\n",
        "def html_to_plain_text(html):\n",
        "    text = re.sub('<head.*?>.*?</head>', '', html, flags=re.M | re.S | re.I)\n",
        "    text = re.sub('<a\\s.*?>', ' HYPERLINK ', text, flags=re.M | re.S | re.I)\n",
        "    text = re.sub('<.*?>', '', text, flags=re.M | re.S)\n",
        "    text = re.sub(r'(\\s*\\n)+', '\\n', text, flags=re.M | re.S)\n",
        "    return unescape(text)"
      ],
      "metadata": {
        "id": "dtUZ_Ecx0c08"
      },
      "execution_count": 17,
      "outputs": []
    },
    {
      "cell_type": "code",
      "source": [
        "html_spam_emails = [email for email in X_train[y_train==1]\n",
        "                    if get_email_structure(email) == \"text/html\"]\n",
        "sample_html_spam = html_spam_emails[7]\n",
        "print(sample_html_spam.get_content().strip()[:1000], \"...\")"
      ],
      "metadata": {
        "colab": {
          "base_uri": "https://localhost:8080/"
        },
        "id": "rMwyru9w0kT0",
        "outputId": "9d887f91-22e8-49ce-97ea-bd19f64ca75e"
      },
      "execution_count": 18,
      "outputs": [
        {
          "output_type": "stream",
          "name": "stdout",
          "text": [
            "Me and my friends have this brand new idea, a Live Webcam <a href=\"http://%31%30%31%31%30%31%31%31%30%31%31%31%31%30%31%30%31%30%31%30%31%30%31%31%31%30%31%30%31%30%31%30%31%30%31%30%31%30%31%30%31%30%31%31%30%31%30%31%30%31%30%31%30%31%30%31%30%31%30%31%30%31%31%30%31%30%31%31%30%31%30%31%30%31%30%31%30%31%30%31%30%31%30%31%30%31%30%31%30%31%31%30%31%30%31%30%31%30%31%30%31%30%31%30%31%30%31%31%30%30%30%31%30%31%31%30%31%31%31%30%31%30%31%30%31%30%31%30%31%30%30%30%31%31%30%31%30%31%30%31%31%30%31%30%31%30%31%30%31%31%30%31@%34%2E%34%37%2E%39%36%2E%31%34%31/msga.html\"> Click Here <a/>\n",
            "<br>\n",
            "<br>\n",
            "<br>\n",
            "<font size=\"1\">This is NOT SPAM - You have received this e-mail because \n",
            "at one time or another you entered the weekly draw at one of\n",
            "our portals or FFA sites. We comply with all proposed and current laws \n",
            "on commercial e-mail under (Bill s. 1618 TITLE III passed by the 105th \n",
            "Congress).\n",
            " If you have received this e-mail in error, we apologize for the \n",
            "inconvenience and ask that you remove ...\n"
          ]
        }
      ]
    },
    {
      "cell_type": "code",
      "source": [
        "print(html_to_plain_text(sample_html_spam.get_content())[:1000], \"...\")"
      ],
      "metadata": {
        "colab": {
          "base_uri": "https://localhost:8080/"
        },
        "id": "t9dvZNc40ml0",
        "outputId": "326db6e7-2825-4dc0-d239-e69fe3909319"
      },
      "execution_count": 19,
      "outputs": [
        {
          "output_type": "stream",
          "name": "stdout",
          "text": [
            "Me and my friends have this brand new idea, a Live Webcam  HYPERLINK  Click Here\n",
            "This is NOT SPAM - You have received this e-mail because\n",
            "at one time or another you entered the weekly draw at one of\n",
            "our portals or FFA sites. We comply with all proposed and current laws\n",
            "on commercial e-mail under (Bill s. 1618 TITLE III passed by the 105th\n",
            "Congress).\n",
            " If you have received this e-mail in error, we apologize for the\n",
            "inconvenience and ask that you remove yourself.\n",
            "Click   HYPERLINK Here to Unsubscribe\n",
            "fysibvcgjyuwinmyvbpjtaebsymyukbrkn\n",
            " ...\n"
          ]
        }
      ]
    },
    {
      "cell_type": "code",
      "source": [
        "def email_to_text(email):\n",
        "    html = None\n",
        "    for part in email.walk():\n",
        "        ctype = part.get_content_type()\n",
        "        if not ctype in (\"text/plain\", \"text/html\"):\n",
        "            continue\n",
        "        try:\n",
        "            content = part.get_content()\n",
        "        except: # in case of encoding issues\n",
        "            content = str(part.get_payload())\n",
        "        if ctype == \"text/plain\":\n",
        "            return content\n",
        "        else:\n",
        "            html = content\n",
        "    if html:\n",
        "        return html_to_plain_text(html)"
      ],
      "metadata": {
        "id": "d-erbh6c0oYQ"
      },
      "execution_count": 20,
      "outputs": []
    },
    {
      "cell_type": "code",
      "source": [
        "print(email_to_text(sample_html_spam)[:100], \"...\")"
      ],
      "metadata": {
        "colab": {
          "base_uri": "https://localhost:8080/"
        },
        "id": "kzqO7WEn0r41",
        "outputId": "dc12317e-7d2d-4f08-ebf7-cc582c6ac00d"
      },
      "execution_count": 21,
      "outputs": [
        {
          "output_type": "stream",
          "name": "stdout",
          "text": [
            "Me and my friends have this brand new idea, a Live Webcam  HYPERLINK  Click Here\n",
            "This is NOT SPAM -  ...\n"
          ]
        }
      ]
    },
    {
      "cell_type": "code",
      "source": [
        "import nltk\n",
        "\n",
        "stemmer = nltk.PorterStemmer()\n",
        "for word in (\"Computations\", \"Computation\", \"Computing\", \"Computed\", \"Compute\",\n",
        "             \"Compulsive\"):\n",
        "    print(word, \"=>\", stemmer.stem(word))"
      ],
      "metadata": {
        "colab": {
          "base_uri": "https://localhost:8080/"
        },
        "id": "qYJsKZ0M0tgw",
        "outputId": "64411e4b-b053-4c0d-c674-7d755d4afd41"
      },
      "execution_count": 22,
      "outputs": [
        {
          "output_type": "stream",
          "name": "stdout",
          "text": [
            "Computations => comput\n",
            "Computation => comput\n",
            "Computing => comput\n",
            "Computed => comput\n",
            "Compute => comput\n",
            "Compulsive => compuls\n"
          ]
        }
      ]
    },
    {
      "cell_type": "code",
      "source": [
        "import sys\n",
        "# Is this notebook running on Colab or Kaggle?\n",
        "IS_COLAB = \"google.colab\" in sys.modules\n",
        "IS_KAGGLE = \"kaggle_secrets\" in sys.modules\n",
        "\n",
        "# if running this notebook on Colab or Kaggle, we just pip install urlextract\n",
        "if IS_COLAB or IS_KAGGLE:\n",
        "    %pip install -q -U urlextract"
      ],
      "metadata": {
        "id": "19IFC8fX0wOJ"
      },
      "execution_count": 23,
      "outputs": []
    },
    {
      "cell_type": "code",
      "source": [
        "import urlextract # may require an Internet connection to download root domain\n",
        "                  # names\n",
        "\n",
        "url_extractor = urlextract.URLExtract()\n",
        "some_text = \"Will it detect github.com and https://youtu.be/7Pq-S557XQU?t=3m32s\"\n",
        "print(url_extractor.find_urls(some_text))"
      ],
      "metadata": {
        "colab": {
          "base_uri": "https://localhost:8080/"
        },
        "id": "dwsX36AX0zNm",
        "outputId": "f18c1e48-7e28-407c-fe73-e9d7ab65fef9"
      },
      "execution_count": 24,
      "outputs": [
        {
          "output_type": "stream",
          "name": "stdout",
          "text": [
            "['github.com', 'https://youtu.be/7Pq-S557XQU?t=3m32s']\n"
          ]
        }
      ]
    },
    {
      "cell_type": "markdown",
      "source": [
        "transformer (convert emails to word counters)"
      ],
      "metadata": {
        "id": "rMC0Rl52066I"
      }
    },
    {
      "cell_type": "code",
      "source": [
        "from sklearn.base import BaseEstimator, TransformerMixin\n",
        "\n",
        "class EmailToWordCounterTransformer(BaseEstimator, TransformerMixin):\n",
        "    def __init__(self, strip_headers=True, lower_case=True,\n",
        "                 remove_punctuation=True, replace_urls=True,\n",
        "                 replace_numbers=True, stemming=True):\n",
        "        self.strip_headers = strip_headers\n",
        "        self.lower_case = lower_case\n",
        "        self.remove_punctuation = remove_punctuation\n",
        "        self.replace_urls = replace_urls\n",
        "        self.replace_numbers = replace_numbers\n",
        "        self.stemming = stemming\n",
        "    def fit(self, X, y=None):\n",
        "        return self\n",
        "    def transform(self, X, y=None):\n",
        "        X_transformed = []\n",
        "        for email in X:\n",
        "            text = email_to_text(email) or \"\"\n",
        "            if self.lower_case:\n",
        "                text = text.lower()\n",
        "            if self.replace_urls and url_extractor is not None:\n",
        "                urls = list(set(url_extractor.find_urls(text)))\n",
        "                urls.sort(key=lambda url: len(url), reverse=True)\n",
        "                for url in urls:\n",
        "                    text = text.replace(url, \" URL \")\n",
        "            if self.replace_numbers:\n",
        "                text = re.sub(r'\\d+(?:\\.\\d*)?(?:[eE][+-]?\\d+)?', 'NUMBER', text)\n",
        "            if self.remove_punctuation:\n",
        "                text = re.sub(r'\\W+', ' ', text, flags=re.M)\n",
        "            word_counts = Counter(text.split())\n",
        "            if self.stemming and stemmer is not None:\n",
        "                stemmed_word_counts = Counter()\n",
        "                for word, count in word_counts.items():\n",
        "                    stemmed_word = stemmer.stem(word)\n",
        "                    stemmed_word_counts[stemmed_word] += count\n",
        "                word_counts = stemmed_word_counts\n",
        "            X_transformed.append(word_counts)\n",
        "        return np.array(X_transformed)"
      ],
      "metadata": {
        "id": "LHflbVRF02ks"
      },
      "execution_count": 25,
      "outputs": []
    },
    {
      "cell_type": "code",
      "source": [
        "X_few = X_train[:3]\n",
        "X_few_wordcounts = EmailToWordCounterTransformer().fit_transform(X_few)\n",
        "X_few_wordcounts"
      ],
      "metadata": {
        "colab": {
          "base_uri": "https://localhost:8080/"
        },
        "id": "z0hZTNsM0_I9",
        "outputId": "70c658e8-ba2e-41da-ff80-e8a719a0bc73"
      },
      "execution_count": 26,
      "outputs": [
        {
          "output_type": "execute_result",
          "data": {
            "text/plain": [
              "array([Counter({'of': 30, 'to': 28, 'the': 28, 'and': 20, 'thi': 17, 'your': 14, 'in': 12, 'we': 12, 'a': 11, 'you': 11, 'kabila': 9, 'congo': 8, 'countri': 8, 'number': 8, 'is': 8, 'my': 8, 'us': 8, 'i': 7, 'presid': 7, 'assist': 6, 'out': 6, 'fund': 6, 'by': 5, 'laurent': 5, 'our': 5, 'as': 5, 'will': 5, 'with': 5, 'from': 4, 'col': 4, 'democrat': 4, 'republ': 4, 'code': 4, 'inform': 4, 'that': 4, 'money': 4, 'secur': 4, 'for': 4, 'be': 4, 'who': 4, 'move': 4, 'are': 4, 'michael': 3, 'bundu': 3, 'no': 3, 'intl': 3, 'access': 3, 'email': 3, 'immedi': 3, 'pleas': 3, 'me': 3, 'need': 3, 'one': 3, 'hi': 3, 'were': 3, 'late': 3, 'then': 3, 'other': 3, 'here': 3, 'can': 3, 'have': 3, 'contact': 3, 'confidenti': 3, 'not': 3, 'through': 3, 'work': 3, 'dial': 3, 'linux': 3, 'tel': 2, 'rediffmail': 2, 'com': 2, 'so': 2, 'trust': 2, 'foreign': 2, 'partner': 2, 'may': 2, 'but': 2, 'indulg': 2, 'view': 2, 'it': 2, 'name': 2, 'aid': 2, 'bless': 2, 'militari': 2, 'rebel': 2, 'some': 2, 'state': 2, 'group': 2, 'privat': 2, 'when': 2, 'compani': 2, 'keep': 2, 'said': 2, 'follow': 2, 'son': 2, 'beneficiari': 2, 'under': 2, 'diplomat': 2, 'europ': 2, 'while': 2, 'ha': 2, 'sincer': 2, 'requir': 2, 'henc': 2, 'if': 2, 'address': 2, 'fax': 2, 'abov': 2, 'deal': 2, 'ie': 2, 'mikebundu': 1, 'dear': 1, 'sir': 1, 'madam': 1, 'seek': 1, 'permit': 1, 'make': 1, 'acquaint': 1, 'manner': 1, 'necessit': 1, 'urgent': 1, 'reach': 1, 'depend': 1, 'worthi': 1, 'request': 1, 'seem': 1, 'strang': 1, 'unsolicit': 1, 'crave': 1, 'pray': 1, 'serious': 1, 'close': 1, 'former': 1, 'memori': 1, 'soul': 1, 'rest': 1, 'peac': 1, 'due': 1, 'campaign': 1, 'forc': 1, 'colleagu': 1, 'instruct': 1, 'go': 1, 'abroad': 1, 'purchas': 1, 'arm': 1, 'ammunit': 1, 'worth': 1, 'twenti': 1, 'million': 1, 'five': 1, 'hundr': 1, 'thousand': 1, 'unit': 1, 'dollar': 1, 'onli': 1, 'fight': 1, 'given': 1, 'without': 1, 'knowledg': 1, 'cabinet': 1, 'member': 1, 'wa': 1, 'kill': 1, 'bloodi': 1, 'shoot': 1, 'bodyguard': 1, 'day': 1, 'befor': 1, 'schedul': 1, 'travel': 1, 'decid': 1, 'put': 1, 'into': 1, 'safe': 1, 'amount': 1, 'present': 1, 'threaten': 1, 'arrest': 1, 'seizur': 1, 'properti': 1, 'rasheidi': 1, 'karesava': 1, 'tribesman': 1, 'personnel': 1, 'same': 1, 'tribe': 1, 'new': 1, 'joseph': 1, 'reliabl': 1, 'trustworthi': 1, 'suffici': 1, 'cover': 1, 'ensur': 1, 'baggag': 1, 'mark': 1, 'pass': 1, 'normal': 1, 'custom': 1, 'airport': 1, 'screen': 1, 'clearanc': 1, 'inabl': 1, 'all': 1, 'stem': 1, 'lack': 1, 'suppos': 1, 'good': 1, 'friend': 1, 'western': 1, 'suddenli': 1, 'becam': 1, 'hostil': 1, 'those': 1, 'after': 1, 'took': 1, 'offic': 1, 'though': 1, 'neither': 1, 'seen': 1, 'nor': 1, 'met': 1, 'each': 1, 'gather': 1, 'an': 1, 'associ': 1, 'encourag': 1, 'convinc': 1, 'transact': 1, 'properli': 1, 'handl': 1, 'modesti': 1, 'honesti': 1, 'huge': 1, 'success': 1, 'within': 1, 'two': 1, 'week': 1, 'therefor': 1, 'total': 1, 'would': 1, 'stand': 1, 'on': 1, 'behalf': 1, 'becaus': 1, 'restrict': 1, 'movement': 1, 'watch': 1, 'want': 1, 'veri': 1, 'care': 1, 'order': 1, 'lose': 1, 'which': 1, 'hard': 1, 'thu': 1, 'telephon': 1, 'person': 1, 'enabl': 1, 'discuss': 1, 'modal': 1, 'what': 1, 'share': 1, 'percentag': 1, 'note': 1, 'there': 1, 'risk': 1, 'involv': 1, 'everyon': 1, 's': 1, 'guarante': 1, 'guidelin': 1, 'furnish': 1, 'further': 1, 'detail': 1, 'soon': 1, 'am': 1, 'assur': 1, 'interest': 1, 'must': 1, 'use': 1, 'opportun': 1, 'medium': 1, 'implor': 1, 'exercis': 1, 'utmost': 1, 'matter': 1, 'extraordinarili': 1, 'whatev': 1, 'decis': 1, 'await': 1, 'prompt': 1, 'respons': 1, 'thank': 1, 'god': 1, 'best': 1, 'regard': 1, 'rtd': 1, 'm_bundu': 1, 'n': 1, 'b': 1, 'call': 1, 'line': 1, 'directli': 1, 'do': 1, 'includ': 1, 'e': 1, 'just': 1, 'also': 1, 'irish': 1, 'user': 1, 'ilug': 1, 'url': 1, 'un': 1, 'subscript': 1, 'list': 1, 'maintain': 1, 'listmast': 1}),\n",
              "       Counter({'the': 48, 'of': 30, 'divx': 26, 'to': 24, 'you': 21, 'number': 20, 'in': 19, 'url': 18, 'thi': 16, 'and': 14, 'skin': 13, 'a': 13, 'video': 12, 'battl': 9, 'your': 9, 's': 8, 'planet': 8, 'is': 8, 'email': 7, 'if': 7, 'for': 7, 'that': 7, 'warcraft': 6, 'iii': 6, 'newslett': 6, 'from': 6, 'by': 6, 'about': 5, 'be': 5, 'unsubscrib': 5, 'not': 5, 'forward': 5, 'mailshel': 5, 'news': 4, 'week': 4, 'sent': 4, 'cool': 4, 'at': 4, 'follow': 4, 'messag': 4, 'with': 4, 'more': 4, 'anim': 4, 'on': 4, 'can': 4, 'futur': 4, 'what': 3, 'latest': 3, 'over': 3, 'fan': 3, 'are': 3, 'like': 3, 'up': 3, 'seri': 3, 'adventur': 3, 'as': 3, 'read': 3, 'player': 3, 'have': 3, 'will': 3, 'submit': 3, 'all': 3, 'pleas': 3, 'receiv': 3, 'divxnetwork': 3, 'hot': 2, 'world': 2, 'now': 2, 'million': 2, 'weekli': 2, 'subscrib': 2, 'd': 2, 'instruct': 2, 'classic': 2, 'one': 2, 'way': 2, 'it': 2, 'ha': 2, 'great': 2, 'new': 2, 'entertain': 2, 'popular': 2, 'wa': 2, 'group': 2, 'protect': 2, 'who': 2, 'enjoy': 2, 're': 2, 'high': 2, 'qualiti': 2, 'episod': 2, 'mammoth': 2, 'shark': 2, 'menac': 2, 'featur': 2, 'showcas': 2, 'watch': 2, 'set': 2, 'record': 2, 'we': 2, 'game': 2, 'reign': 2, 'chao': 2, 'blizzard': 2, 'would': 2, 'experi': 2, 'design': 2, 'suggest': 2, 'send': 2, 'us': 2, 'friend': 2, 'inc': 2, 'advertis': 2, 'an': 2, 'repli': 2, 'do': 2, 'address': 2, 'list': 2, 'safe': 2, 'tm': 1, 'worldwid': 1, 'welcom': 1, 'edit': 1, 'fix': 1, 'inform': 1, 'becaus': 1, 'end': 1, 'issu': 1, 'sell': 1, 'hotcak': 1, 'best': 1, 'thing': 1, 'open': 1, 'distribut': 1, 'possibl': 1, 'lot': 1, 'may': 1, 'otherwis': 1, 'wide': 1, 'seen': 1, 'independ': 1, 'short': 1, 'film': 1, 'cult': 1, 'movi': 1, 'strong': 1, 'underground': 1, 'filmmak': 1, 'distributor': 1, 'discov': 1, 'provid': 1, 'get': 1, 'their': 1, 'content': 1, 'front': 1, 'audienc': 1, 'perfect': 1, 'exampl': 1, 'phenomenon': 1, 'groundbreak': 1, 'sandi': 1, 'frank': 1, 'origin': 1, 'shown': 1, 'american': 1, 'televis': 1, 'late': 1, 'gain': 1, 'forerunn': 1, 'wildli': 1, 'style': 1, 'chronicl': 1, 'intergalact': 1, 'they': 1, 'evil': 1, 'univers': 1, 'invad': 1, 'belov': 1, 'among': 1, 'nostalgia': 1, 'buff': 1, 'anyon': 1, 'sci': 1, 'fi': 1, 'subject': 1, 'site': 1, 'discuss': 1, 'throughout': 1, 'internet': 1, 'live': 1, 'crew': 1, 'current': 1, 'stay': 1, 'tune': 1, 'come': 1, 'sale': 1, 'while': 1, 'ago': 1, 'told': 1, 'highli': 1, 'anticip': 1, 'cinemat': 1, 'cut': 1, 'scene': 1, 'earli': 1, 'juli': 1, 'releas': 1, 'result': 1, 'ship': 1, 'copi': 1, 'retail': 1, 'coincid': 1, 'judg': 1, 'look': 1, 'announc': 1, 'technolog': 1, 'some': 1, 'favorit': 1, 'near': 1, 'trailer': 1, 'success': 1, 'launch': 1, 'm': 1, 'let': 1, 'face': 1, 'don': 1, 't': 1, 'just': 1, 'display': 1, 'sleek': 1, 'stylish': 1, 'full': 1, 'screen': 1, 'give': 1, 'home': 1, 'theatr': 1, 'pc': 1, 'budman': 1, 'coldfus': 1, 'futurist': 1, 'drip': 1, 'gryphix': 1, 'dvdesqu': 1, 'titl': 1, 'groovi': 1, 'dvd': 1, 'complement': 1, 'nellynel': 1, 'check': 1, 'out': 1, 'section': 1, 'make': 1, 'own': 1, 'how': 1, 'creat': 1, 'page': 1, 'thank': 1, 'support': 1, 'feel': 1, 'free': 1, 'ani': 1, 'comment': 1, 'info': 1, 'until': 1, 'next': 1, 'time': 1, 'team': 1, 'p': 1, 'think': 1, 'them': 1, 'copyright': 1, 'c': 1, 'right': 1, 'reserv': 1, 'trademark': 1, 'opt': 1, 'interest': 1, 'write': 1, 'com': 1, 'autom': 1, 'account': 1, 'below': 1, 'want': 1, 'wish': 1, 'visit': 1, 'enter': 1, 'altern': 1, 'remov': 1, 'request': 1, 'keep': 1, 'privat': 1, 'easili': 1, 'use': 1, 'or': 1, 'stop': 1, 'earn': 1, 'each': 1, 'sign': 1}),\n",
              "       Counter({'hyperlink': 62, 'number': 43, 'the': 21, 'to': 19, 'and': 17, 'you': 17, 'a': 15, 'it': 14, 'of': 13, 'usb': 11, 'in': 10, 'for': 10, 'discuss': 10, 'on': 9, 'your': 9, 'that': 9, 'is': 9, 'cnet': 8, 'be': 8, 'comput': 7, 'window': 7, 'with': 7, 's': 7, 'if': 7, 'thi': 7, 'all': 6, 'from': 6, 'or': 6, 'have': 6, 'up': 6, 'download': 5, 'xp': 5, 'out': 5, 'one': 5, 'more': 5, 'are': 5, 't': 5, 'i': 5, 'what': 5, 'may': 5, 'font': 4, 'as': 4, 'canon': 4, 'powershot': 4, 'use': 4, 'look': 4, 'system': 4, 'messag': 3, 'me': 3, 'secur': 3, 'user': 3, 'opinion': 3, 'product': 3, 'vote': 3, 'our': 3, 'live': 3, 'type': 3, 'who': 3, 'can': 3, 'well': 3, 'board': 3, 'tech': 3, 'there': 3, 'no': 3, 'better': 3, 'interest': 3, 'so': 3, 'question': 3, 'pick': 3, 'whi': 3, 'some': 3, 'but': 3, 'will': 3, 'faster': 3, 'than': 3, 'best': 3, 'enough': 3, 'kid': 3, 'my': 3, 'web': 2, 'help': 2, 'pc': 2, 'hardwar': 2, 'newbi': 2, 'viru': 2, 'check': 2, 'submit': 2, 'famili': 2, 'problem': 2, 'normal': 2, 'here': 2, 'scandal': 2, 'such': 2, 'trust': 2, 'real': 2, 'get': 2, 'when': 2, 'receiv': 2, 'honest': 2, 'advic': 2, 'review': 2, 'just': 2, 'like': 2, 'love': 2, 'worri': 2, 'about': 2, 'post': 2, 'won': 2, 'digicam': 2, 'summer': 2, 'most': 2, 'popular': 2, 'camera': 2, 'snumber': 2, 'see': 2, 'firewal': 2, 'hear': 2, 'veteran': 2, 'refus': 2, 'take': 2, 'peripher': 2, 'compat': 2, 'vs': 2, 'not': 2, 'newer': 2, 'doesn': 2, 'had': 2, 'backup': 2, 'someon': 2, 'back': 2, 'sound': 2, 're': 2, 'same': 2, 'onlin': 2, 'pass': 2, 'find': 2, 'zdnet': 2, 'subscript': 2, 'wireless': 1, 'speakeasi': 1, 'these': 1, 'hot': 1, 'then': 1, 'own': 1, 'ramboost': 1, 'optim': 1, 'diagnost': 1, 'zonealarm': 1, 'encrypt': 1, 'virusmd': 1, 'webfilt': 1, 'brows': 1, 'companion': 1, 'tri': 1, 'support': 1, 'technician': 1, 'black': 1, 'color': 1, 'verdana': 1, 'arial': 1, 'helvetica': 1, 'san': 1, 'serif': 1, 'style': 1, 'size': 1, 'numberpx': 1, 'weight': 1, 'click': 1, 'go': 1, 'juli': 1, 'dear': 1, 'reader': 1, 'corpor': 1, 'worldcom': 1, 'enron': 1, 'surround': 1, 'us': 1, 'nowaday': 1, 'starter': 1, 'come': 1, 'down': 1, 'give': 1, 'place': 1, 'test': 1, 'by': 1, 'profession': 1, 'true': 1, 'life': 1, 'experi': 1, 'peopl': 1, 'share': 1, 'common': 1, 'today': 1, 'challeng': 1, 'technolog': 1, 'sneaki': 1, 'exec': 1, 'specif': 1, 'mind': 1, 'disappoint': 1, 'lee': 1, 'koo': 1, 'commun': 1, 'got': 1, 'suggest': 1, 'email': 1, 'messageboard': 1, 'com': 1, 'shutterbugsgo': 1, 'vacat': 1, 'head': 1, 'beach': 1, 'indulg': 1, 'snapshot': 1, 'habit': 1, 'megapixel': 1, 'shoot': 1, 'leica': 1, 'digilux': 1, 'street': 1, 'shooter': 1, 'digit': 1, 'gnumber': 1, 'anumb': 1, 'nikon': 1, 'coolpix': 1, 'don': 1, 'do': 1, 'need': 1, 'despit': 1, 'horror': 1, 'stori': 1, 'hacker': 1, 'trojan': 1, 'intrud': 1, 'person': 1, 'moder': 1, 'bit': 1, 'heat': 1, 'her': 1, 'point': 1, 'wa': 1, 'taken': 1, 'she': 1, 'cent': 1, 'two': 1, 'throw': 1, 'donat': 1, 'jar': 1, 'wide': 1, 'open': 1, 'alert': 1, 'scoop': 1, 'chanc': 1, 'next': 1, 'time': 1, 'an': 1, 'extern': 1, 'util': 1, 'connect': 1, 'much': 1, 'current': 1, 'port': 1, 'new': 1, 'version': 1, 'similar': 1, 'gather': 1, 'topic': 1, 'hope': 1, 'bring': 1, 'understand': 1, 'store': 1, 'numbero': 1, 'how': 1, 'upgrad': 1, 'revers': 1, 'ani': 1, 'numbers': 1, 'mani': 1, 'jump': 1, 'ship': 1, 'move': 1, 'supposedli': 1, 'thing': 1, 'perform': 1, 'par': 1, 'actual': 1, 'slower': 1, 'previou': 1, 'os': 1, 'alway': 1, 'indig': 1, 'hard': 1, 'drive': 1, 'task': 1, 'beginn': 1, 'ask': 1, 'sure': 1, 'he': 1, 'bunch': 1, 'option': 1, 'choos': 1, 'boat': 1, 'way': 1, 'import': 1, 'data': 1, 'warn': 1, 'teen': 1, 'parent': 1, 'someth': 1, 'want': 1, 'read': 1, 'found': 1, 'along': 1, 'becaus': 1, 'know': 1, 'someday': 1, 'll': 1, 'face': 1, 'surf': 1, 'inform': 1, 'defrag': 1, 'ram': 1, 'worn': 1, 'winmodem': 1, 'full': 1, 'modem': 1, 'wake': 1, 'jen': 1, 'smith': 1, 'purchas': 1, 'cd': 1, 'rw': 1, 'kind': 1, 'graham': 1, 'hurst': 1, 'now': 1, 'url': 1, 'top': 1, 'cio': 1, 'futur': 1, 'job': 1, 'over': 1, 'million': 1, 'director': 1, 'ha': 1, 'microsoft': 1, 'editor': 1, 'choic': 1, 'award': 1, 'pioneer': 1, 'home': 1, 'theater': 1, 'ht': 1, 'numberdv': 1, 'e': 1, 'mail': 1, 'address': 1, 'qqqqqqqqqq': 1, 'spamassassin': 1, 'taint': 1, 'org': 1, 'unsubscrib': 1, 'manag': 1, 'faq': 1, 'advertis': 1, 'price': 1, 'comparison': 1, 'news': 1, 'servic': 1, 'copyright': 1, 'network': 1, 'inc': 1, 'right': 1, 'reserv': 1})],\n",
              "      dtype=object)"
            ]
          },
          "metadata": {},
          "execution_count": 26
        }
      ]
    },
    {
      "cell_type": "markdown",
      "source": [
        "Convertion to vectors"
      ],
      "metadata": {
        "id": "jK1OHBX51Luk"
      }
    },
    {
      "cell_type": "code",
      "source": [
        "from scipy.sparse import csr_matrix\n",
        "\n",
        "class WordCounterToVectorTransformer(BaseEstimator, TransformerMixin):\n",
        "    def __init__(self, vocabulary_size=1000):\n",
        "        self.vocabulary_size = vocabulary_size\n",
        "    def fit(self, X, y=None):\n",
        "        total_count = Counter()\n",
        "        for word_count in X:\n",
        "            for word, count in word_count.items():\n",
        "                total_count[word] += min(count, 10)\n",
        "        most_common = total_count.most_common()[:self.vocabulary_size]\n",
        "        self.vocabulary_ = {word: index + 1\n",
        "                            for index, (word, count) in enumerate(most_common)}\n",
        "        return self\n",
        "    def transform(self, X, y=None):\n",
        "        rows = []\n",
        "        cols = []\n",
        "        data = []\n",
        "        for row, word_count in enumerate(X):\n",
        "            for word, count in word_count.items():\n",
        "                rows.append(row)\n",
        "                cols.append(self.vocabulary_.get(word, 0))\n",
        "                data.append(count)\n",
        "        return csr_matrix((data, (rows, cols)),\n",
        "                          shape=(len(X), self.vocabulary_size + 1))"
      ],
      "metadata": {
        "id": "-YDsJlMk1HSL"
      },
      "execution_count": 27,
      "outputs": []
    },
    {
      "cell_type": "code",
      "source": [
        "vocab_transformer = WordCounterToVectorTransformer(vocabulary_size=10)\n",
        "X_few_vectors = vocab_transformer.fit_transform(X_few_wordcounts)\n",
        "X_few_vectors"
      ],
      "metadata": {
        "colab": {
          "base_uri": "https://localhost:8080/"
        },
        "id": "PFjf_nfo1Ou-",
        "outputId": "3a80107c-f9b8-4f0b-8879-12ee21b5a694"
      },
      "execution_count": 28,
      "outputs": [
        {
          "output_type": "execute_result",
          "data": {
            "text/plain": [
              "<3x11 sparse matrix of type '<class 'numpy.int64'>'\n",
              "\twith 33 stored elements in Compressed Sparse Row format>"
            ]
          },
          "metadata": {},
          "execution_count": 28
        }
      ]
    },
    {
      "cell_type": "code",
      "source": [
        "X_few_vectors.toarray()"
      ],
      "metadata": {
        "colab": {
          "base_uri": "https://localhost:8080/"
        },
        "id": "31tRgZoJ1QJ8",
        "outputId": "7d1f420b-9ef6-4d4c-e289-5231b15e36ed"
      },
      "execution_count": 29,
      "outputs": [
        {
          "output_type": "execute_result",
          "data": {
            "text/plain": [
              "array([[549,  30,  28,  12,  11,  20,  11,  28,  14,   8,  17],\n",
              "       [586,  30,  24,  19,  13,  14,  21,  48,   9,  20,  16],\n",
              "       [744,  13,  19,  10,  15,  17,  17,  21,   9,  43,   7]])"
            ]
          },
          "metadata": {},
          "execution_count": 29
        }
      ]
    },
    {
      "cell_type": "code",
      "source": [
        "vocab_transformer.vocabulary_"
      ],
      "metadata": {
        "colab": {
          "base_uri": "https://localhost:8080/"
        },
        "id": "_gV6zfS71R6q",
        "outputId": "644a96f6-c009-48ca-ce69-8e25a85c4188"
      },
      "execution_count": 30,
      "outputs": [
        {
          "output_type": "execute_result",
          "data": {
            "text/plain": [
              "{'of': 1,\n",
              " 'to': 2,\n",
              " 'in': 3,\n",
              " 'a': 4,\n",
              " 'and': 5,\n",
              " 'you': 6,\n",
              " 'the': 7,\n",
              " 'your': 8,\n",
              " 'number': 9,\n",
              " 'thi': 10}"
            ]
          },
          "metadata": {},
          "execution_count": 30
        }
      ]
    },
    {
      "cell_type": "code",
      "source": [
        "from sklearn.pipeline import Pipeline\n",
        "\n",
        "preprocess_pipeline = Pipeline([\n",
        "    (\"email_to_wordcount\", EmailToWordCounterTransformer()),\n",
        "    (\"wordcount_to_vector\", WordCounterToVectorTransformer()),\n",
        "])\n",
        "\n",
        "X_train_transformed = preprocess_pipeline.fit_transform(X_train)\n",
        "\n",
        "from sklearn.metrics import precision_score, recall_score\n",
        "\n",
        "X_test_transformed = preprocess_pipeline.transform(X_test)\n"
      ],
      "metadata": {
        "id": "yUq2Q8Db1TfX"
      },
      "execution_count": 36,
      "outputs": []
    },
    {
      "cell_type": "markdown",
      "source": [
        "Model"
      ],
      "metadata": {
        "id": "uwAUzZrs1c_H"
      }
    },
    {
      "cell_type": "code",
      "source": [
        "from sklearn.ensemble import VotingClassifier\n",
        "from sklearn.linear_model import LogisticRegression\n",
        "from sklearn.ensemble import RandomForestClassifier, GradientBoostingClassifier\n",
        "from sklearn.svm import SVC\n"
      ],
      "metadata": {
        "id": "j-vvmdnK1d90"
      },
      "execution_count": 37,
      "outputs": []
    },
    {
      "cell_type": "code",
      "source": [
        "from sklearn.linear_model import LogisticRegression\n",
        "from sklearn.ensemble import RandomForestClassifier, GradientBoostingClassifier, VotingClassifier\n",
        "from sklearn.svm import SVC\n",
        "from sklearn.metrics import precision_score, recall_score\n",
        "\n",
        "log_clf = LogisticRegression(max_iter=1000, random_state=42)\n",
        "rf_clf = RandomForestClassifier(n_estimators=100, random_state=42)\n",
        "gb_clf = GradientBoostingClassifier(n_estimators=100, random_state=42)\n",
        "svm_clf = SVC(kernel='linear', probability=True, random_state=42)\n",
        "\n",
        "voting_clf = VotingClassifier(\n",
        "    estimators=[\n",
        "        ('lr', log_clf),\n",
        "        ('rf', rf_clf),\n",
        "        ('gb', gb_clf),\n",
        "        ('svm', svm_clf)\n",
        "    ],\n",
        "    voting='soft'  # 'hard' para votación por mayoría, 'soft' para votación basada en probabilidades\n",
        ")"
      ],
      "metadata": {
        "id": "zt5qyrd51hTi"
      },
      "execution_count": 38,
      "outputs": []
    },
    {
      "cell_type": "code",
      "source": [
        "models = [log_clf, rf_clf, gb_clf, svm_clf, voting_clf]\n",
        "model_names = [\"Logistic Regression\", \"Random Forest\", \"Gradient Boosting\", \"SVM\", \"Voting Classifier\"]\n",
        "\n",
        "for model, name in zip(models, model_names):\n",
        "    print(f\"Training {name}...\")\n",
        "    model.fit(X_train_transformed, y_train)"
      ],
      "metadata": {
        "colab": {
          "base_uri": "https://localhost:8080/"
        },
        "id": "48y7i9cD1jHy",
        "outputId": "74f0f8e9-9c95-4ebe-a56a-8e1a2210b823"
      },
      "execution_count": 39,
      "outputs": [
        {
          "output_type": "stream",
          "name": "stdout",
          "text": [
            "Training Logistic Regression...\n",
            "Training Random Forest...\n",
            "Training Gradient Boosting...\n",
            "Training SVM...\n",
            "Training Voting Classifier...\n"
          ]
        }
      ]
    },
    {
      "cell_type": "code",
      "source": [
        "for model, name in zip(models, model_names):\n",
        "    y_pred = model.predict(X_test_transformed)\n",
        "    precision = precision_score(y_test, y_pred)\n",
        "    recall = recall_score(y_test, y_pred)\n",
        "    print(f\"{name}\")\n",
        "    print(f\"Precision: {precision:.2%}\")\n",
        "    print(f\"Recall: {recall:.2%}\")\n",
        "    print(\"-\" * 30)"
      ],
      "metadata": {
        "colab": {
          "base_uri": "https://localhost:8080/"
        },
        "id": "6-VdcQb01lOo",
        "outputId": "bb495403-347c-4dd4-c4e4-8738eda11133"
      },
      "execution_count": 40,
      "outputs": [
        {
          "output_type": "stream",
          "name": "stdout",
          "text": [
            "Logistic Regression\n",
            "Precision: 95.00%\n",
            "Recall: 96.94%\n",
            "------------------------------\n",
            "Random Forest\n",
            "Precision: 92.38%\n",
            "Recall: 98.98%\n",
            "------------------------------\n",
            "Gradient Boosting\n",
            "Precision: 89.81%\n",
            "Recall: 98.98%\n",
            "------------------------------\n",
            "SVM\n",
            "Precision: 93.94%\n",
            "Recall: 94.90%\n",
            "------------------------------\n",
            "Voting Classifier\n",
            "Precision: 95.00%\n",
            "Recall: 96.94%\n",
            "------------------------------\n"
          ]
        }
      ]
    }
  ]
}